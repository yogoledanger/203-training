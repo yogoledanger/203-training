{
 "cells": [
  {
   "cell_type": "markdown",
   "metadata": {},
   "source": [
    "# Thinking Recursively in Python"
   ]
  },
  {
   "cell_type": "markdown",
   "metadata": {},
   "source": [
    "## Example: factorial function"
   ]
  },
  {
   "cell_type": "code",
   "execution_count": 13,
   "metadata": {},
   "outputs": [],
   "source": [
    "def factorial_recursive(n):\n",
    "    print(n)\n",
    "    if n == 1:\n",
    "        # stop condition is required\n",
    "        return 1\n",
    "\n",
    "    else:\n",
    "        res = n * factorial_recursive(n-1)\n",
    "        print(n, res)\n",
    "        return res"
   ]
  },
  {
   "cell_type": "code",
   "execution_count": 14,
   "metadata": {},
   "outputs": [
    {
     "name": "stdout",
     "output_type": "stream",
     "text": [
      "10\n",
      "9\n",
      "8\n",
      "7\n",
      "6\n",
      "5\n",
      "4\n",
      "3\n",
      "2\n",
      "1\n",
      "2 2\n",
      "3 6\n",
      "4 24\n",
      "5 120\n",
      "6 720\n",
      "7 5040\n",
      "8 40320\n",
      "9 362880\n",
      "10 3628800\n"
     ]
    },
    {
     "data": {
      "text/plain": [
       "3628800"
      ]
     },
     "execution_count": 14,
     "metadata": {},
     "output_type": "execute_result"
    }
   ],
   "source": [
    "factorial_recursive(10)"
   ]
  },
  {
   "cell_type": "markdown",
   "metadata": {},
   "source": [
    "# Numbers round"
   ]
  },
  {
   "cell_type": "markdown",
   "metadata": {},
   "source": [
    "\n",
    "The goal of this round is to arrive at a chosen number (from 101 to 999) using the four basic arithmetic operations (+, -, ×, ÷) applied to six numbers chosen randomly from the following alternatives: 1 to 10; 25; 50; 75; 100 (each number is drawn from the entire set, so the same number may appear more than once). \n",
    "\n",
    "Once these six numbers are selected, a three-digit target number is generated. The players have 40 seconds to combine the numbers arithmetically with the goal of producing the target number. The contestants may use each of the six numbers originally selected once, and the result of each operation performed with them once – for example, if a contestant multiplies 4 by 25 to obtain 100, he or she may no longer use the 4 or 25, but may use the 100 in further calculations. It's not mandatory to use all the numbers. All numbers used must be positive integers.\n"
   ]
  },
  {
   "cell_type": "markdown",
   "metadata": {},
   "source": [
    "\n",
    "Example\n",
    "Numbers given:\n",
    "8 4 4 6 8 9\n",
    "Target number:\n",
    "594\n",
    "\n",
    "8 + 8 = 16\n",
    "16 × 4 = 64\n",
    "6 − 4 = 2\n",
    "64 + 2 = 66\n",
    "66 × 9 = 594\n",
    "\n",
    "Or\n",
    "\n",
    "8 × 8 = 64\n",
    "64 − 4 = 60\n",
    "60 + 6 = 66\n",
    "66 × 9 = 594\n",
    "\n",
    "Goal: arriving at the target number exactly or, if the number cannot be reached , to each contestant reaching the closest possible number. If neither contestant obtains the best solution possible, the contestant or contestants with the result nearest the target number receive seven points each."
   ]
  }
 ],
 "metadata": {
  "kernelspec": {
   "display_name": "Python 3",
   "language": "python",
   "name": "python3"
  },
  "language_info": {
   "codemirror_mode": {
    "name": "ipython",
    "version": 3
   },
   "file_extension": ".py",
   "mimetype": "text/x-python",
   "name": "python",
   "nbconvert_exporter": "python",
   "pygments_lexer": "ipython3",
   "version": "3.7.3"
  }
 },
 "nbformat": 4,
 "nbformat_minor": 2
}
